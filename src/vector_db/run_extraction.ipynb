{
      "cells": [
            {
                  "attachments": {},
                  "cell_type": "markdown",
                  "metadata": {},
                  "source": [
                        "# Import"
                  ]
            },
            {
                  "cell_type": "code",
                  "execution_count": 1,
                  "metadata": {},
                  "outputs": [],
                  "source": [
                        "# import sys\n",
                        "# sys.path.append(r'D:/NLP code/vector db/src/vector_db')\n",
                        "\n"
                  ]
            },
            {
                  "cell_type": "code",
                  "execution_count": 2,
                  "metadata": {},
                  "outputs": [],
                  "source": [
                        "# !pip install -e ."
                  ]
            },
            {
                  "cell_type": "code",
                  "execution_count": 3,
                  "metadata": {},
                  "outputs": [],
                  "source": [
                        "# from vector_db.api import DocumentExtractor, config_init"
                  ]
            },
            {
                  "cell_type": "code",
                  "execution_count": 1,
                  "metadata": {},
                  "outputs": [],
                  "source": [
                        "from text_extraction import DocumentExtractor\n",
                        "from extract_embeddings import EmbeddingExtractor\n",
                        "from retrieve_from_vector_db import VectorSearch\n",
                        "from utils import config_init\n",
                        "from chunking import LangChunkExtractor"
                  ]
            },
            {
                  "cell_type": "code",
                  "execution_count": 2,
                  "metadata": {},
                  "outputs": [
                        {
                              "name": "stdout",
                              "output_type": "stream",
                              "text": [
                                    "../../log/vector_db_exp1\n",
                                    "../../log/vector_db_exp1\\run.log\n"
                              ]
                        }
                  ],
                  "source": [
                        "from main import VectorDB"
                  ]
            },
            {
                  "cell_type": "code",
                  "execution_count": 3,
                  "metadata": {},
                  "outputs": [],
                  "source": [
                        "# !pip install python-docx\n",
                        "# !pip install langchain"
                  ]
            },
            {
                  "cell_type": "markdown",
                  "metadata": {},
                  "source": [
                        "### Config path\n"
                  ]
            },
            {
                  "cell_type": "code",
                  "execution_count": 4,
                  "metadata": {},
                  "outputs": [],
                  "source": [
                        "data_config_path = \"../../configs/data_config.yaml\"\n",
                        "user_config_path = \"../../configs/user_config.yaml\"\n",
                        "model_config_path = \"../../configs/model_config.yaml\""
                  ]
            },
            {
                  "cell_type": "markdown",
                  "metadata": {},
                  "source": [
                        "### Config Initialization"
                  ]
            },
            {
                  "cell_type": "code",
                  "execution_count": 5,
                  "metadata": {},
                  "outputs": [],
                  "source": [
                        "user_config, data_config, model_config = config_init(\n",
                        "    user_config_path, data_config_path, model_config_path\n",
                        ")"
                  ]
            },
            {
                  "cell_type": "markdown",
                  "metadata": {},
                  "source": [
                        "### PDF To text"
                  ]
            },
            {
                  "cell_type": "code",
                  "execution_count": 6,
                  "metadata": {},
                  "outputs": [],
                  "source": [
                        "input_file_path=\"../../data/input_folder/\""
                  ]
            },
            {
                  "cell_type": "code",
                  "execution_count": 7,
                  "metadata": {},
                  "outputs": [],
                  "source": [
                        "db = VectorDB(\n",
                        "    user_config=user_config,\n",
                        "    data_config=data_config,\n",
                        "    model_config=model_config,\n",
                        ")"
                  ]
            },
            {
                  "cell_type": "code",
                  "execution_count": 8,
                  "metadata": {},
                  "outputs": [],
                  "source": [
                        "all_processed_docs_df=db.pdf_to_text_extraction(input_file_path=input_file_path,parser='PyPDFLoader')\n",
                        "# all_processed_docs_df=db.pdf_to_text_extraction(input_file_path=input_file_path)\n"
                  ]
            },
            {
                  "cell_type": "code",
                  "execution_count": 9,
                  "metadata": {},
                  "outputs": [
                        {
                              "data": {
                                    "text/html": [
                                          "<div>\n",
                                          "<style scoped>\n",
                                          "    .dataframe tbody tr th:only-of-type {\n",
                                          "        vertical-align: middle;\n",
                                          "    }\n",
                                          "\n",
                                          "    .dataframe tbody tr th {\n",
                                          "        vertical-align: top;\n",
                                          "    }\n",
                                          "\n",
                                          "    .dataframe thead th {\n",
                                          "        text-align: right;\n",
                                          "    }\n",
                                          "</style>\n",
                                          "<table border=\"1\" class=\"dataframe\">\n",
                                          "  <thead>\n",
                                          "    <tr style=\"text-align: right;\">\n",
                                          "      <th></th>\n",
                                          "      <th>loaded_docs</th>\n",
                                          "      <th>page_count</th>\n",
                                          "      <th>parse_time</th>\n",
                                          "      <th>cleaned_text</th>\n",
                                          "    </tr>\n",
                                          "  </thead>\n",
                                          "  <tbody>\n",
                                          "    <tr>\n",
                                          "      <th>0</th>\n",
                                          "      <td>[page_content='3/6/23, 5:29 PM Lung Cancer - N...</td>\n",
                                          "      <td>4</td>\n",
                                          "      <td>0.414006</td>\n",
                                          "      <td>[3/6/23, 5:29 PM Lung Cancer - Non-Small Cell:...</td>\n",
                                          "    </tr>\n",
                                          "    <tr>\n",
                                          "      <th>1</th>\n",
                                          "      <td>[page_content='3/4/23, 1 1:33 AM Stages of Lun...</td>\n",
                                          "      <td>3</td>\n",
                                          "      <td>0.173363</td>\n",
                                          "      <td>[3/4/23, 1 1:33 AM Stages of Lung Cancer: Stag...</td>\n",
                                          "    </tr>\n",
                                          "  </tbody>\n",
                                          "</table>\n",
                                          "</div>"
                                    ],
                                    "text/plain": [
                                          "                                         loaded_docs  page_count  parse_time  \\\n",
                                          "0  [page_content='3/6/23, 5:29 PM Lung Cancer - N...           4    0.414006   \n",
                                          "1  [page_content='3/4/23, 1 1:33 AM Stages of Lun...           3    0.173363   \n",
                                          "\n",
                                          "                                        cleaned_text  \n",
                                          "0  [3/6/23, 5:29 PM Lung Cancer - Non-Small Cell:...  \n",
                                          "1  [3/4/23, 1 1:33 AM Stages of Lung Cancer: Stag...  "
                                    ]
                              },
                              "execution_count": 9,
                              "metadata": {},
                              "output_type": "execute_result"
                        }
                  ],
                  "source": [
                        "all_processed_docs_df"
                  ]
            },
            {
                  "cell_type": "markdown",
                  "metadata": {},
                  "source": [
                        "## Chunking"
                  ]
            },
            {
                  "cell_type": "code",
                  "execution_count": 10,
                  "metadata": {},
                  "outputs": [],
                  "source": [
                        "res = db.generate_chunks(all_processed_docs_df)"
                  ]
            },
            {
                  "cell_type": "markdown",
                  "metadata": {},
                  "source": [
                        "### Extract embedding"
                  ]
            },
            {
                  "cell_type": "code",
                  "execution_count": 11,
                  "metadata": {},
                  "outputs": [
                        {
                              "ename": "Exception",
                              "evalue": "Connection Failed",
                              "output_type": "error",
                              "traceback": [
                                    "\u001b[1;31m---------------------------------------------------------------------------\u001b[0m",
                                    "\u001b[1;31mFutureTimeoutError\u001b[0m                        Traceback (most recent call last)",
                                    "File \u001b[1;32mc:\\Users\\krishika.r\\Anaconda3\\envs\\ta-tigernlp\\lib\\site-packages\\pymilvus\\client\\grpc_handler.py:133\u001b[0m, in \u001b[0;36mGrpcHandler._wait_for_channel_ready\u001b[1;34m(self, timeout)\u001b[0m\n\u001b[0;32m    132\u001b[0m \u001b[39mtry\u001b[39;00m:\n\u001b[1;32m--> 133\u001b[0m     grpc\u001b[39m.\u001b[39;49mchannel_ready_future(\u001b[39mself\u001b[39;49m\u001b[39m.\u001b[39;49m_channel)\u001b[39m.\u001b[39;49mresult(timeout\u001b[39m=\u001b[39;49mtimeout)\n\u001b[0;32m    134\u001b[0m     \u001b[39mself\u001b[39m\u001b[39m.\u001b[39m_setup_identifier_interceptor(\u001b[39mself\u001b[39m\u001b[39m.\u001b[39m_user, timeout\u001b[39m=\u001b[39mtimeout)\n",
                                    "File \u001b[1;32mc:\\Users\\krishika.r\\Anaconda3\\envs\\ta-tigernlp\\lib\\site-packages\\grpc\\_utilities.py:151\u001b[0m, in \u001b[0;36m_ChannelReadyFuture.result\u001b[1;34m(self, timeout)\u001b[0m\n\u001b[0;32m    150\u001b[0m \u001b[39mdef\u001b[39;00m \u001b[39mresult\u001b[39m(\u001b[39mself\u001b[39m, timeout: Optional[\u001b[39mfloat\u001b[39m] \u001b[39m=\u001b[39m \u001b[39mNone\u001b[39;00m) \u001b[39m-\u001b[39m\u001b[39m>\u001b[39m \u001b[39mNone\u001b[39;00m:\n\u001b[1;32m--> 151\u001b[0m     \u001b[39mself\u001b[39;49m\u001b[39m.\u001b[39;49m_block(timeout)\n",
                                    "File \u001b[1;32mc:\\Users\\krishika.r\\Anaconda3\\envs\\ta-tigernlp\\lib\\site-packages\\grpc\\_utilities.py:97\u001b[0m, in \u001b[0;36m_ChannelReadyFuture._block\u001b[1;34m(self, timeout)\u001b[0m\n\u001b[0;32m     96\u001b[0m \u001b[39mif\u001b[39;00m remaining \u001b[39m<\u001b[39m \u001b[39m0\u001b[39m:\n\u001b[1;32m---> 97\u001b[0m     \u001b[39mraise\u001b[39;00m grpc\u001b[39m.\u001b[39mFutureTimeoutError()\n\u001b[0;32m     98\u001b[0m \u001b[39melse\u001b[39;00m:\n",
                                    "\u001b[1;31mFutureTimeoutError\u001b[0m: ",
                                    "\nThe above exception was the direct cause of the following exception:\n",
                                    "\u001b[1;31mMilvusException\u001b[0m                           Traceback (most recent call last)",
                                    "File \u001b[1;32md:\\NLP code\\vector db embedding cost\\vector_db-1\\src\\vector_db\\extract_embeddings.py:93\u001b[0m, in \u001b[0;36mEmbeddingExtractor.vector_storage\u001b[1;34m(self, parsed_df)\u001b[0m\n\u001b[0;32m     92\u001b[0m \u001b[39mtry\u001b[39;00m:\n\u001b[1;32m---> 93\u001b[0m     connections\u001b[39m.\u001b[39;49mconnect(alias\u001b[39m=\u001b[39;49m \u001b[39mself\u001b[39;49m\u001b[39m.\u001b[39;49mmilvus_params[\u001b[39m'\u001b[39;49m\u001b[39mconnection\u001b[39;49m\u001b[39m'\u001b[39;49m][\u001b[39m'\u001b[39;49m\u001b[39malias\u001b[39;49m\u001b[39m'\u001b[39;49m],\n\u001b[0;32m     94\u001b[0m                     host\u001b[39m=\u001b[39;49m \u001b[39mself\u001b[39;49m\u001b[39m.\u001b[39;49mmilvus_params[\u001b[39m'\u001b[39;49m\u001b[39mconnection\u001b[39;49m\u001b[39m'\u001b[39;49m][\u001b[39m'\u001b[39;49m\u001b[39mhost\u001b[39;49m\u001b[39m'\u001b[39;49m],\n\u001b[0;32m     95\u001b[0m                     port\u001b[39m=\u001b[39;49m \u001b[39mself\u001b[39;49m\u001b[39m.\u001b[39;49mmilvus_params[\u001b[39m'\u001b[39;49m\u001b[39mconnection\u001b[39;49m\u001b[39m'\u001b[39;49m][\u001b[39m'\u001b[39;49m\u001b[39mport\u001b[39;49m\u001b[39m'\u001b[39;49m],\n\u001b[0;32m     96\u001b[0m                     user \u001b[39m=\u001b[39;49m \u001b[39mself\u001b[39;49m\u001b[39m.\u001b[39;49mmilvus_params[\u001b[39m'\u001b[39;49m\u001b[39mconnection\u001b[39;49m\u001b[39m'\u001b[39;49m][\u001b[39m'\u001b[39;49m\u001b[39muser\u001b[39;49m\u001b[39m'\u001b[39;49m],\n\u001b[0;32m     97\u001b[0m                     password\u001b[39m=\u001b[39;49m \u001b[39mself\u001b[39;49m\u001b[39m.\u001b[39;49mmilvus_params[\u001b[39m'\u001b[39;49m\u001b[39mconnection\u001b[39;49m\u001b[39m'\u001b[39;49m][\u001b[39m'\u001b[39;49m\u001b[39mpassword\u001b[39;49m\u001b[39m'\u001b[39;49m])\n\u001b[0;32m     98\u001b[0m \u001b[39mexcept\u001b[39;00m:\n",
                                    "File \u001b[1;32mc:\\Users\\krishika.r\\Anaconda3\\envs\\ta-tigernlp\\lib\\site-packages\\pymilvus\\orm\\connections.py:356\u001b[0m, in \u001b[0;36mConnections.connect\u001b[1;34m(self, alias, user, password, db_name, token, **kwargs)\u001b[0m\n\u001b[0;32m    354\u001b[0m         kwargs[\u001b[39m\"\u001b[39m\u001b[39msecure\u001b[39m\u001b[39m\"\u001b[39m] \u001b[39m=\u001b[39m \u001b[39mTrue\u001b[39;00m\n\u001b[1;32m--> 356\u001b[0m connect_milvus(\u001b[39m*\u001b[39;49m\u001b[39m*\u001b[39;49mkwargs, user\u001b[39m=\u001b[39;49muser, password\u001b[39m=\u001b[39;49mpassword, token\u001b[39m=\u001b[39;49mtoken, db_name\u001b[39m=\u001b[39;49mdb_name)\n\u001b[0;32m    357\u001b[0m \u001b[39mreturn\u001b[39;00m\n",
                                    "File \u001b[1;32mc:\\Users\\krishika.r\\Anaconda3\\envs\\ta-tigernlp\\lib\\site-packages\\pymilvus\\orm\\connections.py:302\u001b[0m, in \u001b[0;36mConnections.connect.<locals>.connect_milvus\u001b[1;34m(**kwargs)\u001b[0m\n\u001b[0;32m    300\u001b[0m timeout \u001b[39m=\u001b[39m t \u001b[39mif\u001b[39;00m \u001b[39misinstance\u001b[39m(t, (\u001b[39mint\u001b[39m, \u001b[39mfloat\u001b[39m)) \u001b[39melse\u001b[39;00m Config\u001b[39m.\u001b[39mMILVUS_CONN_TIMEOUT\n\u001b[1;32m--> 302\u001b[0m gh\u001b[39m.\u001b[39;49m_wait_for_channel_ready(timeout\u001b[39m=\u001b[39;49mtimeout)\n\u001b[0;32m    303\u001b[0m kwargs\u001b[39m.\u001b[39mpop(\u001b[39m\"\u001b[39m\u001b[39mpassword\u001b[39m\u001b[39m\"\u001b[39m)\n",
                                    "File \u001b[1;32mc:\\Users\\krishika.r\\Anaconda3\\envs\\ta-tigernlp\\lib\\site-packages\\pymilvus\\client\\grpc_handler.py:136\u001b[0m, in \u001b[0;36mGrpcHandler._wait_for_channel_ready\u001b[1;34m(self, timeout)\u001b[0m\n\u001b[0;32m    135\u001b[0m \u001b[39mexcept\u001b[39;00m grpc\u001b[39m.\u001b[39mFutureTimeoutError \u001b[39mas\u001b[39;00m e:\n\u001b[1;32m--> 136\u001b[0m     \u001b[39mraise\u001b[39;00m MilvusException(\n\u001b[0;32m    137\u001b[0m         code\u001b[39m=\u001b[39mStatus\u001b[39m.\u001b[39mCONNECT_FAILED,\n\u001b[0;32m    138\u001b[0m         message\u001b[39m=\u001b[39m\u001b[39mf\u001b[39m\u001b[39m\"\u001b[39m\u001b[39mFail connecting to server on \u001b[39m\u001b[39m{\u001b[39;00m\u001b[39mself\u001b[39m\u001b[39m.\u001b[39m_address\u001b[39m}\u001b[39;00m\u001b[39m. Timeout\u001b[39m\u001b[39m\"\u001b[39m,\n\u001b[0;32m    139\u001b[0m     ) \u001b[39mfrom\u001b[39;00m \u001b[39me\u001b[39;00m\n\u001b[0;32m    140\u001b[0m \u001b[39mexcept\u001b[39;00m \u001b[39mException\u001b[39;00m \u001b[39mas\u001b[39;00m e:\n",
                                    "\u001b[1;31mMilvusException\u001b[0m: <MilvusException: (code=2, message=Fail connecting to server on localhost:19530. Timeout)>",
                                    "\nDuring handling of the above exception, another exception occurred:\n",
                                    "\u001b[1;31mException\u001b[0m                                 Traceback (most recent call last)",
                                    "Cell \u001b[1;32mIn[11], line 1\u001b[0m\n\u001b[1;32m----> 1\u001b[0m result\u001b[38;5;241m=\u001b[39m\u001b[43mdb\u001b[49m\u001b[38;5;241;43m.\u001b[39;49m\u001b[43mprocess_embedding_and_store_db\u001b[49m\u001b[43m(\u001b[49m\u001b[43mchunk_data\u001b[49m\u001b[38;5;241;43m=\u001b[39;49m\u001b[43mres\u001b[49m\u001b[43m)\u001b[49m\n\u001b[0;32m      2\u001b[0m \u001b[38;5;66;03m# result=db.process_embedding_and_store_db(chunk_data=res,embedding_type='HuggingFaceEmbeddings',embedding_model='all-MiniLM-L6-v2')\u001b[39;00m\n",
                                    "File \u001b[1;32md:\\NLP code\\vector db embedding cost\\vector_db-1\\src\\vector_db\\main.py:180\u001b[0m, in \u001b[0;36mVectorDB.process_embedding_and_store_db\u001b[1;34m(self, chunk_data, embedding_type, embedding_model)\u001b[0m\n\u001b[0;32m    178\u001b[0m \u001b[39mexcept\u001b[39;00m \u001b[39mException\u001b[39;00m \u001b[39mas\u001b[39;00m e:\n\u001b[0;32m    179\u001b[0m     logger\u001b[39m.\u001b[39merror(\u001b[39mf\u001b[39m\u001b[39m\"\u001b[39m\u001b[39mError: General Exception type: \u001b[39m\u001b[39m{\u001b[39;00m\u001b[39mtype\u001b[39m(e)\u001b[39m.\u001b[39m\u001b[39m__name__\u001b[39m\u001b[39m}\u001b[39;00m\u001b[39m, Message: \u001b[39m\u001b[39m{\u001b[39;00me\u001b[39m}\u001b[39;00m\u001b[39m\"\u001b[39m)\n\u001b[1;32m--> 180\u001b[0m     \u001b[39mraise\u001b[39;00m e\n",
                                    "File \u001b[1;32md:\\NLP code\\vector db embedding cost\\vector_db-1\\src\\vector_db\\main.py:149\u001b[0m, in \u001b[0;36mVectorDB.process_embedding_and_store_db\u001b[1;34m(self, chunk_data, embedding_type, embedding_model)\u001b[0m\n\u001b[0;32m    141\u001b[0m embedding_extractor \u001b[39m=\u001b[39m EmbeddingExtractor(\n\u001b[0;32m    142\u001b[0m     user_config\u001b[39m=\u001b[39m\u001b[39mself\u001b[39m\u001b[39m.\u001b[39muser_config,\n\u001b[0;32m    143\u001b[0m     model_config\u001b[39m=\u001b[39m\u001b[39mself\u001b[39m\u001b[39m.\u001b[39mmodel_config,\n\u001b[0;32m    144\u001b[0m     data_config\u001b[39m=\u001b[39m\u001b[39mself\u001b[39m\u001b[39m.\u001b[39mdata_config,\n\u001b[0;32m    145\u001b[0m     logger\u001b[39m=\u001b[39mlogger\n\u001b[0;32m    146\u001b[0m     )\n\u001b[0;32m    148\u001b[0m \u001b[39m# Perform vector storage\u001b[39;00m\n\u001b[1;32m--> 149\u001b[0m vector_db \u001b[39m=\u001b[39m embedding_extractor\u001b[39m.\u001b[39;49mprocess_and_store_embeddings(chunk_data,embedding_type,embedding_model)\n\u001b[0;32m    150\u001b[0m logger\u001b[39m.\u001b[39minfo(\u001b[39m\"\u001b[39m\u001b[39mSTEP3 Completed\u001b[39m\u001b[39m\"\u001b[39m)\n\u001b[0;32m    151\u001b[0m \u001b[39mreturn\u001b[39;00m vector_db\n",
                                    "File \u001b[1;32md:\\NLP code\\vector db embedding cost\\vector_db-1\\src\\vector_db\\extract_embeddings.py:171\u001b[0m, in \u001b[0;36mEmbeddingExtractor.process_and_store_embeddings\u001b[1;34m(self, chunk_df, embedding_type, embedding_model)\u001b[0m\n\u001b[0;32m    168\u001b[0m chunk_df[\u001b[39m'\u001b[39m\u001b[39mID\u001b[39m\u001b[39m'\u001b[39m] \u001b[39m=\u001b[39m \u001b[39mrange\u001b[39m(\u001b[39m1\u001b[39m,chunk_df\u001b[39m.\u001b[39mshape[\u001b[39m0\u001b[39m]\u001b[39m+\u001b[39m\u001b[39m1\u001b[39m)\n\u001b[0;32m    169\u001b[0m \u001b[39mself\u001b[39m\u001b[39m.\u001b[39mlogger\u001b[39m.\u001b[39minfo(\u001b[39m\"\u001b[39m\u001b[39mGenerated the embeddings of the chunks\u001b[39m\u001b[39m\"\u001b[39m)\n\u001b[1;32m--> 171\u001b[0m \u001b[39mself\u001b[39;49m\u001b[39m.\u001b[39;49mvector_storage(chunk_df)\n\u001b[0;32m    172\u001b[0m \u001b[39mreturn\u001b[39;00m chunk_df\n",
                                    "File \u001b[1;32md:\\NLP code\\vector db embedding cost\\vector_db-1\\src\\vector_db\\extract_embeddings.py:100\u001b[0m, in \u001b[0;36mEmbeddingExtractor.vector_storage\u001b[1;34m(self, parsed_df)\u001b[0m\n\u001b[0;32m     98\u001b[0m \u001b[39mexcept\u001b[39;00m:\n\u001b[0;32m     99\u001b[0m     \u001b[39mself\u001b[39m\u001b[39m.\u001b[39mlogger\u001b[39m.\u001b[39merror(\u001b[39m\"\u001b[39m\u001b[39mUnable to connect to vector database\u001b[39m\u001b[39m\"\u001b[39m)\n\u001b[1;32m--> 100\u001b[0m     \u001b[39mraise\u001b[39;00m \u001b[39mException\u001b[39;00m(\u001b[39m\"\u001b[39m\u001b[39mConnection Failed\u001b[39m\u001b[39m\"\u001b[39m)\n\u001b[0;32m    102\u001b[0m DIMENSION \u001b[39m=\u001b[39m \u001b[39mlen\u001b[39m(parsed_df\u001b[39m.\u001b[39miloc[\u001b[39m0\u001b[39m]\u001b[39m.\u001b[39membeddings)\n\u001b[0;32m    103\u001b[0m COLLECTION_NAME \u001b[39m=\u001b[39m \u001b[39mself\u001b[39m\u001b[39m.\u001b[39mmilvus_params[\u001b[39m'\u001b[39m\u001b[39mcollection\u001b[39m\u001b[39m'\u001b[39m][\u001b[39m'\u001b[39m\u001b[39mname\u001b[39m\u001b[39m'\u001b[39m]\n",
                                    "\u001b[1;31mException\u001b[0m: Connection Failed"
                              ]
                        }
                  ],
                  "source": [
                        "result=db.process_embedding_and_store_db(chunk_data=res)\n",
                        "# result=db.process_embedding_and_store_db(chunk_data=res,embedding_type='HuggingFaceEmbeddings',embedding_model='all-MiniLM-L6-v2')"
                  ]
            },
            {
                  "cell_type": "code",
                  "execution_count": null,
                  "metadata": {},
                  "outputs": [
                        {
                              "data": {
                                    "text/plain": [
                                          "(384,)"
                                    ]
                              },
                              "execution_count": 15,
                              "metadata": {},
                              "output_type": "execute_result"
                        }
                  ],
                  "source": [
                        "result.iloc[0].embeddings.shape"
                  ]
            },
            {
                  "cell_type": "code",
                  "execution_count": null,
                  "metadata": {},
                  "outputs": [
                        {
                              "data": {
                                    "text/html": [
                                          "<div>\n",
                                          "<style scoped>\n",
                                          "    .dataframe tbody tr th:only-of-type {\n",
                                          "        vertical-align: middle;\n",
                                          "    }\n",
                                          "\n",
                                          "    .dataframe tbody tr th {\n",
                                          "        vertical-align: top;\n",
                                          "    }\n",
                                          "\n",
                                          "    .dataframe thead th {\n",
                                          "        text-align: right;\n",
                                          "    }\n",
                                          "</style>\n",
                                          "<table border=\"1\" class=\"dataframe\">\n",
                                          "  <thead>\n",
                                          "    <tr style=\"text-align: right;\">\n",
                                          "      <th></th>\n",
                                          "      <th>page_content</th>\n",
                                          "      <th>metadata</th>\n",
                                          "      <th>embeddings</th>\n",
                                          "      <th>ID</th>\n",
                                          "    </tr>\n",
                                          "  </thead>\n",
                                          "  <tbody>\n",
                                          "    <tr>\n",
                                          "      <th>0</th>\n",
                                          "      <td>3/6/23, 5:29 PM Lung Cancer - Non-Small Cell: ...</td>\n",
                                          "      <td>{'source': '../../data/input_folder\\Cancer.Net...</td>\n",
                                          "      <td>[0.07491632550954819, 0.07181448489427567, -0....</td>\n",
                                          "      <td>1</td>\n",
                                          "    </tr>\n",
                                          "  </tbody>\n",
                                          "</table>\n",
                                          "</div>"
                                    ],
                                    "text/plain": [
                                          "                                        page_content  \\\n",
                                          "0  3/6/23, 5:29 PM Lung Cancer - Non-Small Cell: ...   \n",
                                          "\n",
                                          "                                            metadata  \\\n",
                                          "0  {'source': '../../data/input_folder\\Cancer.Net...   \n",
                                          "\n",
                                          "                                          embeddings  ID  \n",
                                          "0  [0.07491632550954819, 0.07181448489427567, -0....   1  "
                                    ]
                              },
                              "execution_count": 16,
                              "metadata": {},
                              "output_type": "execute_result"
                        }
                  ],
                  "source": [
                        "result.head(1)"
                  ]
            },
            {
                  "cell_type": "markdown",
                  "metadata": {},
                  "source": [
                        "## Retrieval"
                  ]
            },
            {
                  "cell_type": "code",
                  "execution_count": null,
                  "metadata": {},
                  "outputs": [],
                  "source": [
                        "query = \"what are the stages of lung cancer\"\n",
                        "vector_db=db.retreive_from_vector_db(search_query=query)\n",
                        "# vector_db=db.retreive_from_vector_db(search_query=query,embedding_type='HuggingFaceEmbeddings',embedding_model='all-MiniLM-L6-v2',threshold =0.72)"
                  ]
            },
            {
                  "cell_type": "code",
                  "execution_count": null,
                  "metadata": {},
                  "outputs": [
                        {
                              "data": {
                                    "text/plain": [
                                          "[id: 7, distance: 0.7484228014945984, entity: {'page_content': '3/4/23, 1 1:33 AM Stages of Lung Cancer: Stages 1-4, Limited vs. Extensive\\nhttps://www .webmd.com/lung-cancer/guide/lung-cancer-stages 1/3What Are the Stages of Lung Cancer?\\nWritten by Susan Bernstein\\n\\ue910  Medically Reviewed by Jennifer Robinson,\\xa0MD on October 26, 2021\\nIt’s important to know the stage of your lung cancer. It tells you:\\nWhere a tumor or cancer cells are located in your lungs\\nHow large your tumor is now\\nIf your cancer’s in one spot or has spread\\n\\xa0\\nThere are two main types of lung cancer: small cell and non-small cell. Each is staged differently.\\nKnowing the stage helps your doctor choose the right treatments for you. It may also help them gauge your chances of success with that treatment.\\nOne thing your lung cancer stage can’t tell you is how long you’ll live.\\nWhat Is the TNM System?\\nLung cancer staging often uses the letters T, N, and M:\\nT stands for your tumor’s size and where it’s located in your lungs or body.\\nN stands for node involvement. This means whether or not your cancer has spread to your lymph nodes near your lungs.\\nM stands for metastasis. This means whether or not your cancer has spread. Lung cancer can spread to your other lung or your liver, bones, brain, kidneys,\\nadrenal glands, or other parts of your body.\\nYour doctor can stage your tumor with these letters, and then be more specific with the numbers 0-4.\\nThey’ll measure the size of your tumor in centimeters to give it a number. The higher the number, the more your tumor has grown or spread.\\nThey might also use X as a number. This means the tumor can’t be measured or it’s unclear how far it has spread.'},\n",
                                          " id: 9, distance: 0.7043600082397461, entity: {'page_content': 'Stage II (“stage 2”): The disease may have spread to your lymph nodes near your lungs.\\nStage III (“stage 3”): It has spread further into your lymph nodes and the middle of your chest.\\nStage IV (“stage 4”): Cancer has spread widely around your body. It may have spread to your brain, bones, or liver.\\n Show Sources\\nSOURCES:\\nAmerican Lung Association: “Lung Cancer Staging.”\\nLungCancer.org: “Types and Staging of Lung Cancer.”\\nAmerican Cancer Society: “Non-Small Cell Lung Cancer Stages.”\\nNational Cancer Institute Dictionary of Cancer Terms.\\n© 2021 WebMD, LLC. All rights reserved.\\nRELATED'},\n",
                                          " id: 1, distance: 0.7011495232582092, entity: {'page_content': '3/6/23, 5:29 PM Lung Cancer - Non-Small Cell: Stages | Cancer .Net\\nhttps://www .cancer .net/cancer-types/lung-cancer-non-small-cell/stages 1/4Home > Types of Cancer > Lung Cancer - Non-Small Cell > Lung Cancer - Non-Small Cell: Stages\\nLung Cancer - Non-Small Cell: Stages\\nApproved by the Cancer.Net Editorial Board (http://www .cancer .net/about-us/cancernet-editorial-board) , 12/2022\\nON THIS PAGE: You will learn about how doctors describe a cancer’s growth or spread. This is called\\nthe stage. Use the menu to see other pages.\\nWhat is cancer staging?\\nStaging is a way of describing where the cancer is located, if or where it has spread, and whether it is\\naffecting other parts of the body. Doctors use diagnostic tests to find out the cancer’s stage, so staging\\nmay not be complete until all of the tests are finished. Knowing the stage helps the doctor recommend\\nthe best kind of treatment and can help predict a patient’s prognosis, which is the chance of recovery.\\nThere are different stage descriptions for different types of cancer.\\nIn general, a lower number stage of non-small cell lung cancer (NSCLC) is linked with a better\\noutcome. However, no doctor can predict how long a patient will live with lung cancer based only on the\\nstage of disease. This is because lung cancer is different in each person and treatment works\\ndifferently for each tumor.\\nThis page provides detailed information about the stage groups for NSCLC, such as stage II or stage\\nIV, and what this means for prognosis.\\nStage groups for NSCLC (https://www .cancer .net/cancer-types/lung-cancer-non-small-cell/stages#stage-groups)\\nPrognosis (https://www .cancer .net/cancer-types/lung-cancer-non-small-cell/stages#prognosis)\\nStage groups for NSCLC\\nThe stage of NSCLC is based on a combination of several factors, including:\\nThe size and location of the tumor\\nWhether it has spread to the lymph nodes and/or other parts of the body.\\nThere are 5 stages for NSCLC: stage 0 (zero) and stages I through IV (1 through 4). One way to\\ndetermine the staging of NSCLC is to find out whether the cancer can be completely removed by a\\nsurgeon. To completely remove the lung cancer, the surgeon must remove the cancer, along with the\\nsurrounding, healthy lung tissue and often nearby lymph nodes. Learn more about treatment options\\nfor NSCLC (http://www .cancer .net/node/19155) .\\nStage 0\\nThis is called in situ disease, meaning the cancer is “in place” and has not grown into nearby normal\\nlung tissues or spread outside the lung.'}]"
                                    ]
                              },
                              "execution_count": 28,
                              "metadata": {},
                              "output_type": "execute_result"
                        }
                  ],
                  "source": [
                        "vector_db"
                  ]
            },
            {
                  "cell_type": "code",
                  "execution_count": null,
                  "metadata": {},
                  "outputs": [],
                  "source": []
            }
      ],
      "metadata": {
            "kernelspec": {
                  "display_name": "Python 3.8.16 ('ta-tigernlp')",
                  "language": "python",
                  "name": "python3"
            },
            "language_info": {
                  "codemirror_mode": {
                        "name": "ipython",
                        "version": 3
                  },
                  "file_extension": ".py",
                  "mimetype": "text/x-python",
                  "name": "python",
                  "nbconvert_exporter": "python",
                  "pygments_lexer": "ipython3",
                  "version": "3.8.16"
            },
            "vscode": {
                  "interpreter": {
                        "hash": "17930d0de946692a14a4df2f294c1245aa4a433de9da782ba8a7c569b7a7c344"
                  }
            }
      },
      "nbformat": 4,
      "nbformat_minor": 2
}
